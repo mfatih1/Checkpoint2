{
 "cells": [
  {
   "cell_type": "code",
   "execution_count": null,
   "id": "418a84e5",
   "metadata": {},
   "outputs": [],
   "source": [
    "#Question 1\n",
    "#Write a program that will find all numbers which are divisible by 7 but are not a multiple of 5,\n",
    "#between 2000 and 3200 (both included). The numbers obtained should be printed in a list.\n",
    "#Hints: Consider using the range(#begin, #end) method."
   ]
  },
  {
   "cell_type": "code",
   "execution_count": 5,
   "id": "3420f457",
   "metadata": {},
   "outputs": [
    {
     "name": "stdout",
     "output_type": "stream",
     "text": [
      "[2002, 2009, 2016, 2023, 2037, 2044, 2051, 2058, 2072, 2079, 2086, 2093, 2107, 2114, 2121, 2128, 2142, 2149, 2156, 2163, 2177, 2184, 2191, 2198, 2212, 2219, 2226, 2233, 2247, 2254, 2261, 2268, 2282, 2289, 2296, 2303, 2317, 2324, 2331, 2338, 2352, 2359, 2366, 2373, 2387, 2394, 2401, 2408, 2422, 2429, 2436, 2443, 2457, 2464, 2471, 2478, 2492, 2499, 2506, 2513, 2527, 2534, 2541, 2548, 2562, 2569, 2576, 2583, 2597, 2604, 2611, 2618, 2632, 2639, 2646, 2653, 2667, 2674, 2681, 2688, 2702, 2709, 2716, 2723, 2737, 2744, 2751, 2758, 2772, 2779, 2786, 2793, 2807, 2814, 2821, 2828, 2842, 2849, 2856, 2863, 2877, 2884, 2891, 2898, 2912, 2919, 2926, 2933, 2947, 2954, 2961, 2968, 2982, 2989, 2996, 3003, 3017, 3024, 3031, 3038, 3052, 3059, 3066, 3073, 3087, 3094, 3101, 3108, 3122, 3129, 3136, 3143, 3157, 3164, 3171, 3178, 3192, 3199]\n"
     ]
    }
   ],
   "source": [
    "\n",
    "Question1=[]\n",
    "for i in range (2000,3201,1):\n",
    "        if (i%7)==0 and (i%5)!=0:\n",
    "                Question1.append(i)  \n",
    "print(Question1)              \n"
   ]
  },
  {
   "cell_type": "code",
   "execution_count": 6,
   "id": "f635134f",
   "metadata": {},
   "outputs": [],
   "source": [
    "#Question 2 \n",
    "#Write a program that can compute the factorial of a given number. \n",
    "#(the factorial of n is the product of all positive integers less than or #equal to n). \n",
    "#for example factorial(5)= 5 x 4 x 3 x 2 x 1 the result is 120.  (i.e. factorial (0)=1)"
   ]
  },
  {
   "cell_type": "code",
   "execution_count": 28,
   "id": "ccd7013e",
   "metadata": {},
   "outputs": [
    {
     "name": "stdout",
     "output_type": "stream",
     "text": [
      "This is a factorial calculator ''n!'', Please insert a number :\n",
      "5\n",
      "the factorial of 5  is:  120\n"
     ]
    }
   ],
   "source": [
    "\n",
    "print(\"This is a factorial calculator ''n!'', Please insert a number :\")\n",
    "n=int(input())\n",
    "x=1\n",
    "for i in range(1, n+1):\n",
    "        x=x*i\n",
    "print(\"the factorial of\", n, \" is: \", x)\n"
   ]
  },
  {
   "cell_type": "code",
   "execution_count": null,
   "id": "9a8f9b8b",
   "metadata": {},
   "outputs": [],
   "source": [
    "#Question 3 \n",
    "#With a given integer number n, \n",
    "#write a program to generate a dictionary that contains (i, i*i) \n",
    "#such that is an integral number between 1 and n (both included). \n",
    "#and then the program should print the dictionary. \n",
    "#Suppose the following input is supplied to the program: 8 Then, \n",
    "#the output should be: {1: 1, 2: 4, 3: 9, 4: 16, 5: 25, 6: 36, 7: 49, 8: 64}  "
   ]
  },
  {
   "cell_type": "code",
   "execution_count": 43,
   "id": "c9e54c37",
   "metadata": {},
   "outputs": [
    {
     "name": "stdout",
     "output_type": "stream",
     "text": [
      "Please enter a number n to get this model {1: 1, 2: 4 ....... n*n} : \n",
      "7\n",
      "{1: 1, 2: 4, 3: 9, 4: 16, 5: 25, 6: 36, 7: 49}\n"
     ]
    }
   ],
   "source": [
    "print(\"Please enter a number n to get this model {1: 1, 2: 4 ....... n*n} : \")\n",
    "n,D = int(input()),{}\n",
    "for i in range(1,n+1):\n",
    "    D[i]=i*i\n",
    "print(D)"
   ]
  },
  {
   "cell_type": "markdown",
   "id": "1e9e40e9",
   "metadata": {},
   "source": [
    "#Question 4 \n",
    "\n",
    "#Given a non-empty string and an integral n, return a new string where the char at index n has been #removed. The value of n will be a valid index of a char in the original string (i.e. n will be in the #range 0..len(str)-1 inclusive). \n",
    "#missing_char('kitten', 1) → 'ktten'    for example here we remove \"i\" which is located in the index 1\n",
    "#missing_char('kitten', 0) → 'itten'   here we remove \"k\" which is in the index 0\n",
    "#missing_char('kitten', 4) → 'kittn'   here we remove \"e\" which is in the index 4"
   ]
  },
  {
   "cell_type": "code",
   "execution_count": 55,
   "id": "4c0279bb",
   "metadata": {},
   "outputs": [
    {
     "name": "stdout",
     "output_type": "stream",
     "text": [
      "Please insert a word\n",
      "mohamed\n",
      "please insert the index to delet\n",
      "1\n",
      "'mhamed'\n"
     ]
    }
   ],
   "source": [
    "print(\"Please insert a word\")\n",
    "word=list(input())\n",
    "print(\"please insert the index to delet\")\n",
    "n=int(input())\n",
    "del word[n]\n",
    "Question4=\"\"\n",
    "for i in word:\n",
    "    Question4=Question4+i\n",
    "print(\"'\"+Question4+\"'\")"
   ]
  },
  {
   "cell_type": "code",
   "execution_count": 56,
   "id": "3271b9f7",
   "metadata": {},
   "outputs": [],
   "source": [
    "#Question 5 \n",
    "#Write a NumPy program to convert a NumPy array into a Python list structure.\n",
    "#Expected output: \n",
    "#Original array elements: [[0 1] [2 3] [4 5]] \n",
    "#Array to list: [[0, 1], [2, 3], [4, 5]] "
   ]
  },
  {
   "cell_type": "code",
   "execution_count": 61,
   "id": "b2ed4a87",
   "metadata": {},
   "outputs": [
    {
     "name": "stdout",
     "output_type": "stream",
     "text": [
      "original array:\n",
      "[[0 1]\n",
      " [2 3]\n",
      " [4 5]]\n",
      "Array to list:\n",
      "[[0, 1], [2, 3], [4, 5]]\n"
     ]
    }
   ],
   "source": [
    "import numpy as np\n",
    "nplst=np.array([[0,1],[2,3],[4,5]])\n",
    "print(\"original array:\")\n",
    "print(nplst)\n",
    "Question5=nplst.tolist()\n",
    "print(\"Array to list:\")\n",
    "print(Question5)"
   ]
  },
  {
   "cell_type": "code",
   "execution_count": 62,
   "id": "43e3656f",
   "metadata": {},
   "outputs": [],
   "source": [
    "#Question 6\n",
    "#Write a NumPy program to compute the covariance matrix of two given arrays. \n",
    "#Original array1: [0 1 2] \n",
    "#Original array2: [2 1 0] \n",
    "#Covariance matrix of the said arrays: [[ 1. -1.] [-1. 1.]]\n",
    "#Hint: We can use the np.cov() function to calculate the covariance between these two arrays"
   ]
  },
  {
   "cell_type": "code",
   "execution_count": 63,
   "id": "10da7ead",
   "metadata": {},
   "outputs": [
    {
     "name": "stdout",
     "output_type": "stream",
     "text": [
      "[[ 1. -1.]\n",
      " [-1.  1.]]\n"
     ]
    }
   ],
   "source": [
    "import numpy as np\n",
    "\n",
    "A1=np.array([0,1,2])\n",
    "A2=np.array([2,1,0])\n",
    "Question6=np.cov(A1,A2)\n",
    "print(Question6)"
   ]
  },
  {
   "cell_type": "code",
   "execution_count": 64,
   "id": "be2fa3f1",
   "metadata": {},
   "outputs": [],
   "source": [
    "#Question 7\n",
    "#Question: Write a program that calculates and prints the value according to the given formula: Q= Square root of [(2 * C * D)/H] \n",
    "#The following are the fixed values of C and H: C is 50. H is 30. \n",
    "#D is the variable whose values should be input into your program in a comma-separated sequence. (That means D contains more than value)\n",
    "#Example: Let's assume the following comma-separated input sequence is given to the program: 100,150,180 The output of the program should be 18,22,24 \n",
    "#To further explain this, we will obtain a result for each value of D:  Q1= Square root of [(2 * C * 100)/H] =18, Q2= Square root of [(2 * C * 150)/H] = 22 and Q3 = Square root of [(2 * C * 180)/H]  = 24\n",
    "#Hint: If the output received is in decimal form, it should be rounded off to its nearest value. For example, if the output received is 26.0, it should be printed as 26. In case of input data being supplied to the question, it should be assumed to be a console input. "
   ]
  },
  {
   "cell_type": "code",
   "execution_count": 83,
   "id": "99491e0c",
   "metadata": {},
   "outputs": [
    {
     "name": "stdout",
     "output_type": "stream",
     "text": [
      "please insert the values of D ith a comma for separation : D1,D2,D3\n",
      "15,144,22\n",
      "7,21,8\n"
     ]
    }
   ],
   "source": [
    "import numpy as np\n",
    "print(\"please insert the values of D ith a comma for separation : D1,D2,D3\")\n",
    "inpt=input()\n",
    "D=inpt.split(',')\n",
    "Z=[]\n",
    "for i in D:\n",
    "    x=int(i)\n",
    "    Q=round(int(np.sqrt((100*x)/30)))\n",
    "    Z.append(Q)\n",
    "Question7=\"\"\n",
    "for i in Z:\n",
    "    A=str(i)\n",
    "    Question7=Question7+A+','\n",
    "print(Question7[:-1])\n",
    "    "
   ]
  },
  {
   "cell_type": "code",
   "execution_count": null,
   "id": "2dcd7f44",
   "metadata": {},
   "outputs": [],
   "source": []
  },
  {
   "cell_type": "code",
   "execution_count": null,
   "id": "5135a9d7",
   "metadata": {},
   "outputs": [],
   "source": []
  }
 ],
 "metadata": {
  "kernelspec": {
   "display_name": "Python 3 (ipykernel)",
   "language": "python",
   "name": "python3"
  },
  "language_info": {
   "codemirror_mode": {
    "name": "ipython",
    "version": 3
   },
   "file_extension": ".py",
   "mimetype": "text/x-python",
   "name": "python",
   "nbconvert_exporter": "python",
   "pygments_lexer": "ipython3",
   "version": "3.9.12"
  }
 },
 "nbformat": 4,
 "nbformat_minor": 5
}
